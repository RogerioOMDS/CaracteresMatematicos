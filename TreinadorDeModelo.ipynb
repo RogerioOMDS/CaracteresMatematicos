{
 "cells": [
  {
   "cell_type": "code",
   "execution_count": 35,
   "metadata": {},
   "outputs": [],
   "source": [
    "import numpy as np\n",
    "import pandas as pd\n",
    "import cv2\n",
    "import seaborn as sns\n",
    "import matplotlib.pyplot as plt\n",
    "import os"
   ]
  },
  {
   "cell_type": "code",
   "execution_count": 36,
   "metadata": {},
   "outputs": [],
   "source": [
    "path = 'data'\n",
    "dim_imagens = (28,28,3)"
   ]
  },
  {
   "cell_type": "code",
   "execution_count": 37,
   "metadata": {},
   "outputs": [
    {
     "name": "stdout",
     "output_type": "stream",
     "text": [
      "Número de Classes: 30\n"
     ]
    }
   ],
   "source": [
    "lista = os.listdir(path)\n",
    "print('Número de Classes:', len(lista))"
   ]
  },
  {
   "cell_type": "code",
   "execution_count": 38,
   "metadata": {},
   "outputs": [],
   "source": [
    "num_de_classes = len(lista) "
   ]
  },
  {
   "cell_type": "code",
   "execution_count": 39,
   "metadata": {},
   "outputs": [],
   "source": [
    "imagens = []\n",
    "num_classe = []"
   ]
  },
  {
   "cell_type": "code",
   "execution_count": 40,
   "metadata": {},
   "outputs": [],
   "source": [
    "for x in range(0,num_de_classes):\n",
    "    lista_imagens = os.listdir(path+'/'+str(x))\n",
    "    for y in lista_imagens:\n",
    "        img = cv2.imread(path+'/'+str(x)+'/'+y)\n",
    "        img = cv2.resize(img, (28,28))\n",
    "        imagens.append(img)\n",
    "        num_classe.append(x)\n",
    "        "
   ]
  },
  {
   "cell_type": "code",
   "execution_count": 41,
   "metadata": {},
   "outputs": [],
   "source": [
    "imagens = np.array(imagens)\n",
    "num_classe = np.array(num_classe)"
   ]
  },
  {
   "cell_type": "code",
   "execution_count": 42,
   "metadata": {},
   "outputs": [],
   "source": [
    "from sklearn.model_selection import train_test_split"
   ]
  },
  {
   "cell_type": "code",
   "execution_count": 43,
   "metadata": {},
   "outputs": [],
   "source": [
    "X_train, X_test, y_train, y_test = train_test_split(imagens, num_classe, test_size = 0.2)"
   ]
  },
  {
   "cell_type": "code",
   "execution_count": 44,
   "metadata": {},
   "outputs": [
    {
     "data": {
      "text/plain": [
       "(7109, 28, 28, 3)"
      ]
     },
     "execution_count": 44,
     "metadata": {},
     "output_type": "execute_result"
    }
   ],
   "source": [
    "X_train.shape"
   ]
  },
  {
   "cell_type": "code",
   "execution_count": 45,
   "metadata": {},
   "outputs": [
    {
     "data": {
      "text/plain": [
       "(1778, 28, 28, 3)"
      ]
     },
     "execution_count": 45,
     "metadata": {},
     "output_type": "execute_result"
    }
   ],
   "source": [
    "X_test.shape"
   ]
  },
  {
   "cell_type": "code",
   "execution_count": 46,
   "metadata": {},
   "outputs": [],
   "source": [
    "num_num = []\n",
    "for x in range(0,num_de_classes):\n",
    "    num_num.append(len(np.where(y_train==x)[0]))\n",
    "    "
   ]
  },
  {
   "cell_type": "code",
   "execution_count": 47,
   "metadata": {},
   "outputs": [
    {
     "data": {
      "text/plain": [
       "Text(0.5, 1.0, 'Dados para treino')"
      ]
     },
     "execution_count": 47,
     "metadata": {},
     "output_type": "execute_result"
    },
    {
     "data": {
      "image/png": "[encoded data removed]",
      "text/plain": [
       "<Figure size 432x288 with 1 Axes>"
      ]
     },
     "metadata": {
      "needs_background": "light"
     },
     "output_type": "display_data"
    }
   ],
   "source": [
    "plt.bar(range(0,num_de_classes), num_num)\n",
    "plt.xlabel('Classes')\n",
    "plt.ylabel('Número de elementos')\n",
    "plt.title('Dados para treino')"
   ]
  },
  {
   "cell_type": "code",
   "execution_count": 48,
   "metadata": {},
   "outputs": [],
   "source": [
    "def preProcessing(img):\n",
    "    img = cv2.cvtColor(img,cv2.COLOR_BGR2GRAY)\n",
    "    img = cv2.equalizeHist(img) #IGUALA A DISTRIBUIÇÃO DE LUZ\n",
    "    img = img/255 #NORMALIZA OS DADOS PARA FACILITAR NO TREINO\n",
    "    return img\n",
    "\n",
    "def Filtro(img):\n",
    "    img = cv2.cvtColor(img,cv2.COLOR_BGR2GRAY)\n",
    "    img = cv2.equalizeHist(img)\n",
    "    img = cv2.GaussianBlur(img,(5,5),0)\n",
    "    img = cv2.adaptiveThreshold(img, 255, cv2.ADAPTIVE_THRESH_MEAN_C, cv2.THRESH_BINARY, 11, 2)\n",
    "    img/255\n",
    "    return img"
   ]
  },
  {
   "cell_type": "code",
   "execution_count": 49,
   "metadata": {},
   "outputs": [],
   "source": [
    "X_train = np.array(list(map(Filtro,X_train)))\n",
    "X_test = np.array(list(map(Filtro,X_test)))"
   ]
  },
  {
   "cell_type": "code",
   "execution_count": null,
   "metadata": {},
   "outputs": [],
   "source": []
  },
  {
   "cell_type": "code",
   "execution_count": 50,
   "metadata": {},
   "outputs": [
    {
     "data": {
      "text/plain": [
       "(7109, 28, 28)"
      ]
     },
     "execution_count": 50,
     "metadata": {},
     "output_type": "execute_result"
    }
   ],
   "source": [
    "X_train.shape"
   ]
  },
  {
   "cell_type": "code",
   "execution_count": 51,
   "metadata": {},
   "outputs": [
    {
     "data": {
      "text/plain": [
       "(1778, 28, 28)"
      ]
     },
     "execution_count": 51,
     "metadata": {},
     "output_type": "execute_result"
    }
   ],
   "source": [
    "X_test.shape"
   ]
  },
  {
   "cell_type": "code",
   "execution_count": 52,
   "metadata": {},
   "outputs": [],
   "source": [
    "X_train = X_train.reshape(7109,28,28,1)\n",
    "X_test = X_test.reshape(1778,28,28,1)"
   ]
  },
  {
   "cell_type": "code",
   "execution_count": 53,
   "metadata": {},
   "outputs": [],
   "source": [
    "from tensorflow.keras.preprocessing.image import ImageDataGenerator"
   ]
  },
  {
   "cell_type": "code",
   "execution_count": 54,
   "metadata": {},
   "outputs": [],
   "source": [
    "image_gen = ImageDataGenerator(rotation_range = 10,\n",
    "                              width_shift_range = 0.1,\n",
    "                              height_shift_range = 0.1,\n",
    "                              shear_range = 0.1,\n",
    "                              zoom_range = 0.2)"
   ]
  },
  {
   "cell_type": "code",
   "execution_count": 55,
   "metadata": {},
   "outputs": [],
   "source": [
    "from tensorflow.keras.utils import to_categorical"
   ]
  },
  {
   "cell_type": "code",
   "execution_count": 56,
   "metadata": {},
   "outputs": [],
   "source": [
    "y_cat_train = to_categorical(y_train, 30)\n",
    "y_cat_test = to_categorical(y_test, 30)\n"
   ]
  },
  {
   "cell_type": "code",
   "execution_count": 57,
   "metadata": {},
   "outputs": [],
   "source": [
    "from tensorflow.keras.models import Sequential\n",
    "from tensorflow.keras.layers import Dense, Dropout, MaxPooling2D, MaxPool2D, Conv2D, Flatten"
   ]
  },
  {
   "cell_type": "code",
   "execution_count": 58,
   "metadata": {},
   "outputs": [],
   "source": [
    "num_filtros = 60\n",
    "tam_filtro1 = (5,5)\n",
    "tam_filtro2 = (3,3)\n",
    "tam_pool = (2,2)\n",
    "nos = 500"
   ]
  },
  {
   "cell_type": "code",
   "execution_count": 59,
   "metadata": {},
   "outputs": [],
   "source": [
    "from tensorflow.keras.optimizers import Adam\n",
    "model =Sequential()\n",
    "\n",
    "model.add(Conv2D(num_filtros, tam_filtro1, input_shape = (28,28,1), activation = 'relu'))\n",
    "model.add(Conv2D(num_filtros, tam_filtro1, activation = 'relu'))\n",
    "model.add(MaxPool2D(pool_size =tam_pool))\n",
    "\n",
    "model.add(Conv2D(num_filtros//2, tam_filtro2, activation = 'relu'))\n",
    "model.add(Conv2D(num_filtros//2, tam_filtro2, activation = 'relu'))\n",
    "model.add(MaxPool2D(pool_size = tam_pool))\n",
    "\n",
    "model.add(Dropout(0.5))\n",
    "\n",
    "model.add(Flatten())\n",
    "model.add(Dense(nos,activation = 'relu'))\n",
    "model.add(Dropout(0.5))\n",
    "\n",
    "model.add(Dense(30, activation = 'softmax'))\n",
    "\n",
    "model.compile(Adam(lr = 0.001), loss = 'categorical_crossentropy', metrics = ['accuracy'])"
   ]
  },
  {
   "cell_type": "code",
   "execution_count": 60,
   "metadata": {},
   "outputs": [
    {
     "name": "stdout",
     "output_type": "stream",
     "text": [
      "Model: \"sequential_1\"\n",
      "_________________________________________________________________\n",
      "Layer (type)                 Output Shape              Param #   \n",
      "=================================================================\n",
      "conv2d_4 (Conv2D)            (None, 24, 24, 60)        1560      \n",
      "_________________________________________________________________\n",
      "conv2d_5 (Conv2D)            (None, 20, 20, 60)        90060     \n",
      "_________________________________________________________________\n",
      "max_pooling2d_2 (MaxPooling2 (None, 10, 10, 60)        0         \n",
      "_________________________________________________________________\n",
      "conv2d_6 (Conv2D)            (None, 8, 8, 30)          16230     \n",
      "_________________________________________________________________\n",
      "conv2d_7 (Conv2D)            (None, 6, 6, 30)          8130      \n",
      "_________________________________________________________________\n",
      "max_pooling2d_3 (MaxPooling2 (None, 3, 3, 30)          0         \n",
      "_________________________________________________________________\n",
      "dropout_2 (Dropout)          (None, 3, 3, 30)          0         \n",
      "_________________________________________________________________\n",
      "flatten_1 (Flatten)          (None, 270)               0         \n",
      "_________________________________________________________________\n",
      "dense_2 (Dense)              (None, 500)               135500    \n",
      "_________________________________________________________________\n",
      "dropout_3 (Dropout)          (None, 500)               0         \n",
      "_________________________________________________________________\n",
      "dense_3 (Dense)              (None, 30)                15030     \n",
      "=================================================================\n",
      "Total params: 266,510\n",
      "Trainable params: 266,510\n",
      "Non-trainable params: 0\n",
      "_________________________________________________________________\n"
     ]
    }
   ],
   "source": [
    "model.summary()"
   ]
  },
  {
   "cell_type": "code",
   "execution_count": 61,
   "metadata": {},
   "outputs": [],
   "source": [
    "from tensorflow.keras.callbacks import EarlyStopping"
   ]
  },
  {
   "cell_type": "code",
   "execution_count": 62,
   "metadata": {},
   "outputs": [],
   "source": [
    "early_stop = EarlyStopping(monitor = 'val_loss', patience = 2)"
   ]
  },
  {
   "cell_type": "code",
   "execution_count": 63,
   "metadata": {},
   "outputs": [],
   "source": [
    "image_gen.fit(X_train)"
   ]
  },
  {
   "cell_type": "code",
   "execution_count": 64,
   "metadata": {},
   "outputs": [],
   "source": [
    "batch_size = 32\n",
    "epochs = 50\n",
    "steps_per_epoch = 1500"
   ]
  },
  {
   "cell_type": "code",
   "execution_count": 65,
   "metadata": {
    "scrolled": true
   },
   "outputs": [
    {
     "name": "stdout",
     "output_type": "stream",
     "text": [
      "Epoch 1/50\n",
      "1500/1500 [==============================] - 244s 163ms/step - loss: 2.9580 - acc: 0.1651 - val_loss: 0.8919 - val_acc: 0.7559\n",
      "Epoch 2/50\n",
      "1500/1500 [==============================] - 149s 99ms/step - loss: 1.1208 - acc: 0.6639 - val_loss: 0.3553 - val_acc: 0.8988\n",
      "Epoch 3/50\n",
      "1500/1500 [==============================] - 150s 100ms/step - loss: 0.7295 - acc: 0.7809 - val_loss: 0.2422 - val_acc: 0.9398\n",
      "Epoch 4/50\n",
      "1500/1500 [==============================] - 214s 142ms/step - loss: 0.5991 - acc: 0.8221 - val_loss: 0.2333 - val_acc: 0.9325\n",
      "Epoch 5/50\n",
      "1500/1500 [==============================] - 148s 99ms/step - loss: 0.5325 - acc: 0.8419 - val_loss: 0.2261 - val_acc: 0.9421\n",
      "Epoch 6/50\n",
      "1500/1500 [==============================] - 169s 113ms/step - loss: 0.5017 - acc: 0.8491 - val_loss: 0.1809 - val_acc: 0.9471\n",
      "Epoch 7/50\n",
      "1500/1500 [==============================] - 246s 164ms/step - loss: 0.4682 - acc: 0.8594 - val_loss: 0.1756 - val_acc: 0.9505\n",
      "Epoch 8/50\n",
      "1500/1500 [==============================] - 242s 161ms/step - loss: 0.4617 - acc: 0.8611 - val_loss: 0.2351 - val_acc: 0.9359\n",
      "Epoch 9/50\n",
      "1500/1500 [==============================] - 243s 162ms/step - loss: 0.4471 - acc: 0.8646 - val_loss: 0.2028 - val_acc: 0.9409\n"
     ]
    },
    {
     "data": {
      "text/plain": [
       "<tensorflow.python.keras.callbacks.History at 0x19b030bd388>"
      ]
     },
     "execution_count": 65,
     "metadata": {},
     "output_type": "execute_result"
    }
   ],
   "source": [
    "model.fit_generator(image_gen.flow(X_train,y_cat_train,batch_size=batch_size),\n",
    "                                                epochs=epochs,\n",
    "                                                steps_per_epoch=steps_per_epoch,\n",
    "                                                validation_data=(X_test,y_cat_test),\n",
    "                                                shuffle=1, callbacks = [early_stop])"
   ]
  },
  {
   "cell_type": "code",
   "execution_count": 66,
   "metadata": {},
   "outputs": [],
   "source": [
    "metrics = pd.DataFrame(model.history.history)"
   ]
  },
  {
   "cell_type": "code",
   "execution_count": 91,
   "metadata": {},
   "outputs": [
    {
     "data": {
      "text/plain": [
       "<matplotlib.legend.Legend at 0x19b08a9c7c8>"
      ]
     },
     "execution_count": 91,
     "metadata": {},
     "output_type": "execute_result"
    },
    {
     "data": {
      "image/png": "[encoded data removed]",
      "text/plain": [
       "<Figure size 432x288 with 1 Axes>"
      ]
     },
     "metadata": {
      "needs_background": "light"
     },
     "output_type": "display_data"
    }
   ],
   "source": [
    "ax = metrics.plot(title = 'Resultados')\n",
    "ax.set_xlabel('Épocas')\n",
    "ax.legend(['Perda em treino', 'Acurácia no treino', 'Perda em teste', 'Acurácia no teste'])"
   ]
  },
  {
   "cell_type": "code",
   "execution_count": 95,
   "metadata": {},
   "outputs": [
    {
     "data": {
      "text/plain": [
       "<matplotlib.legend.Legend at 0x19b0a24ab08>"
      ]
     },
     "execution_count": 95,
     "metadata": {},
     "output_type": "execute_result"
    },
    {
     "data": {
      "image/png": "[encoded data removed]",
      "text/plain": [
       "<Figure size 432x288 with 1 Axes>"
      ]
     },
     "metadata": {
      "needs_background": "light"
     },
     "output_type": "display_data"
    }
   ],
   "source": [
    "loss = metrics[['loss','val_loss']].plot(title = 'Perda')\n",
    "loss.set_xlabel('Épocas')\n",
    "loss.legend(['Perda em treino', 'Perda em teste'])"
   ]
  },
  {
   "cell_type": "code",
   "execution_count": 97,
   "metadata": {},
   "outputs": [
    {
     "data": {
      "text/plain": [
       "<matplotlib.legend.Legend at 0x19b0a364fc8>"
      ]
     },
     "execution_count": 97,
     "metadata": {},
     "output_type": "execute_result"
    },
    {
     "data": {
      "image/png": "[encoded data removed]",
      "text/plain": [
       "<Figure size 432x288 with 1 Axes>"
      ]
     },
     "metadata": {
      "needs_background": "light"
     },
     "output_type": "display_data"
    }
   ],
   "source": [
    "acc = metrics[['acc','val_acc']].plot(title = 'Acurácia')\n",
    "acc.set_xlabel('Épocas')\n",
    "acc.legend(['Acurácia no treino', 'Acurácia no teste'])"
   ]
  },
  {
   "cell_type": "code",
   "execution_count": null,
   "metadata": {},
   "outputs": [],
   "source": []
  },
  {
   "cell_type": "code",
   "execution_count": 70,
   "metadata": {},
   "outputs": [],
   "source": [
    "from sklearn.metrics import classification_report"
   ]
  },
  {
   "cell_type": "code",
   "execution_count": 71,
   "metadata": {},
   "outputs": [],
   "source": [
    "pred = model.predict_classes(X_test)"
   ]
  },
  {
   "cell_type": "code",
   "execution_count": 72,
   "metadata": {},
   "outputs": [
    {
     "name": "stdout",
     "output_type": "stream",
     "text": [
      "              precision    recall  f1-score   support\n",
      "\n",
      "           0       0.94      0.96      0.95        53\n",
      "           1       0.93      0.93      0.93        71\n",
      "           2       0.93      0.98      0.96        58\n",
      "           3       1.00      0.98      0.99        59\n",
      "           4       1.00      0.94      0.97        71\n",
      "           5       1.00      0.92      0.96        65\n",
      "           6       0.92      0.94      0.93        50\n",
      "           7       1.00      0.90      0.95        62\n",
      "           8       0.84      1.00      0.91        52\n",
      "           9       0.98      0.98      0.98        65\n",
      "          10       0.82      0.90      0.86        62\n",
      "          11       0.98      0.95      0.97        66\n",
      "          12       0.98      0.75      0.85        59\n",
      "          13       0.94      0.97      0.96        67\n",
      "          14       0.96      0.93      0.95        56\n",
      "          15       0.91      0.98      0.94        52\n",
      "          16       0.98      0.96      0.97        49\n",
      "          17       1.00      0.95      0.97        60\n",
      "          18       1.00      0.97      0.98        67\n",
      "          19       0.92      0.97      0.94        58\n",
      "          20       0.98      0.91      0.94        55\n",
      "          21       0.98      1.00      0.99        61\n",
      "          22       0.93      0.93      0.93        58\n",
      "          23       0.77      0.92      0.84        53\n",
      "          24       1.00      0.96      0.98        70\n",
      "          25       0.91      0.97      0.94        61\n",
      "          26       0.98      0.79      0.88        58\n",
      "          27       0.75      1.00      0.86        49\n",
      "          28       0.94      0.87      0.91        55\n",
      "          29       1.00      1.00      1.00        56\n",
      "\n",
      "    accuracy                           0.94      1778\n",
      "   macro avg       0.94      0.94      0.94      1778\n",
      "weighted avg       0.95      0.94      0.94      1778\n",
      "\n"
     ]
    }
   ],
   "source": [
    "print(classification_report(y_test, pred))"
   ]
  },
  {
   "cell_type": "code",
   "execution_count": 73,
   "metadata": {},
   "outputs": [],
   "source": [
    "#Salva o modelo\n",
    "#model.save('NovoModeloTreinado.h5')"
   ]
  },
  {
   "cell_type": "code",
   "execution_count": null,
   "metadata": {},
   "outputs": [],
   "source": []
  }
 ],
 "metadata": {
  "kernelspec": {
   "display_name": "Python 3",
   "language": "python",
   "name": "python3"
  },
  "language_info": {
   "codemirror_mode": {
    "name": "ipython",
    "version": 3
   },
   "file_extension": ".py",
   "mimetype": "text/x-python",
   "name": "python",
   "nbconvert_exporter": "python",
   "pygments_lexer": "ipython3",
   "version": "3.8.5"
  }
 },
 "nbformat": 4,
 "nbformat_minor": 4
}
