{
 "cells": [
  {
   "cell_type": "code",
   "execution_count": 26,
   "metadata": {
    "scrolled": true
   },
   "outputs": [],
   "source": [
    "import numpy as np\n",
    "import cv2\n",
    "from tensorflow.keras.models import load_model "
   ]
  },
  {
   "cell_type": "code",
   "execution_count": 27,
   "metadata": {},
   "outputs": [],
   "source": [
    "model = load_model('ModeloTreinado.h5')"
   ]
  },
  {
   "cell_type": "code",
   "execution_count": 28,
   "metadata": {},
   "outputs": [
    {
     "data": {
      "text/plain": [
       "True"
      ]
     },
     "execution_count": 28,
     "metadata": {},
     "output_type": "execute_result"
    }
   ],
   "source": [
    "width = 640\n",
    "height = 480\n",
    "threshold = 0.6\n",
    "\n",
    "cap = cv2.VideoCapture(0)\n",
    "cap.set(3,width)\n",
    "cap.set(4,height)"
   ]
  },
  {
   "cell_type": "code",
   "execution_count": 29,
   "metadata": {},
   "outputs": [],
   "source": [
    "def preProcessing(img):\n",
    "    img = cv2.cvtColor(img,cv2.COLOR_BGR2GRAY)\n",
    "    #img = cv2.GaussianBlur(img, (5,5),0)\n",
    "    img = cv2.equalizeHist(img) #IGUALA A DISTRIBUIÇÃO DE LUZ\n",
    "    img = img/255 #NORMALIZA OS DADOS PARA FACILITAR NO TREINO\n",
    "    return img\n",
    "\n",
    "def Filtro(img):\n",
    "    img = cv2.cvtColor(img,cv2.COLOR_BGR2GRAY)\n",
    "    img = cv2.equalizeHist(img)\n",
    "    img = cv2.GaussianBlur(img,(5,5),0)\n",
    "    img = cv2.adaptiveThreshold(img, 255, cv2.ADAPTIVE_THRESH_MEAN_C, cv2.THRESH_BINARY, 11, 2)\n",
    "    img/255\n",
    "    return img\n",
    "\n",
    "def Contorno(img):\n",
    "    img = cv2.cvtColor(img, cv2.COLOR_BGR2GRAY)\n",
    "    ret, thresh = cv2.threshold(img, 127, 255, 0)\n",
    "    contours, hierarchy = cv2.findContours(thresh, cv2.RETR_TREE, cv2.CHAIN_APPROX_NONE)\n",
    "    L = len(contours) - 1\n",
    "    #print(len(contours))\n",
    "    cv2.drawContours(img, contours,L, (0, 0, 0), 1)\n",
    "    return img"
   ]
  },
  {
   "cell_type": "code",
   "execution_count": 30,
   "metadata": {},
   "outputs": [],
   "source": [
    "while True:\n",
    "    success, imgOriginal = cap.read()\n",
    "    img = np.asarray(imgOriginal)\n",
    "    img = cv2.resize(img, (28,28))\n",
    "    #print(img.shape)\n",
    "    img = Filtro(img)\n",
    "    #print(img.shape)\n",
    "    cv2.imshow('Processed Image', img)\n",
    "    img = img.reshape(1,28,28,1)\n",
    "    #print(img.shape)\n",
    "\n",
    "    #PREDICT\n",
    "    classIndex = int(model.predict_classes(img))\n",
    "    #print(classIndex)\n",
    "\n",
    "    #AGORA ELE FAZ A PREVISÃO, MAS APENAS APRESENTA A PREVISÃO COM MAIOR PROBABILIDADE\n",
    "    predictions = model.predict(img)\n",
    "    probVal = np.amax(predictions)\n",
    "\n",
    "    #AGORA VAMOS ESCREVER NA TELA\n",
    "    if probVal > threshold:\n",
    "        if classIndex < 10:\n",
    "            classe = classIndex\n",
    "        elif classIndex >= 10:\n",
    "            if classIndex == 10:\n",
    "                classe = \"Infinito\"\n",
    "            elif classIndex == 11:\n",
    "                classe = \"Phi\"\n",
    "            elif classIndex == 12:\n",
    "                classe = \"Pi\"\n",
    "            elif classIndex == 13:\n",
    "                classe = \"Sigma\"\n",
    "            elif classIndex == 14:\n",
    "                classe = \"Theta\"\n",
    "            elif classIndex == 15:\n",
    "                classe = \"x\"\n",
    "            elif classIndex == 16:\n",
    "                classe = \"Lambda\"\n",
    "            elif classIndex == 17:\n",
    "                classe = \"Dividir\"\n",
    "            elif classIndex == 18:\n",
    "                classe = \"Existe\"\n",
    "            elif classIndex == 19:\n",
    "                classe = \"Nao Existe\"\n",
    "            elif classIndex == 20:\n",
    "                classe = \">\"\n",
    "            elif classIndex == 21:\n",
    "                classe = \"<\"\n",
    "            elif classIndex == 22:\n",
    "                classe = \"=\"\n",
    "            elif classIndex == 23:\n",
    "                classe = \"Diferente\"\n",
    "            elif classIndex == 24:\n",
    "                classe = \"Pertence\"\n",
    "            elif classIndex == 25:\n",
    "                classe = \"Nao Pertence\"\n",
    "            elif classIndex == 26:\n",
    "                classe = \"Condicional\"\n",
    "            elif classIndex == 27:\n",
    "                classe = \"Bicondicional\"\n",
    "            elif classIndex == 28:\n",
    "                classe = \"+\"\n",
    "            elif classIndex == 29:\n",
    "                classe = \"-\"\n",
    "        cv2.putText(imgOriginal, 'PRED:'+str(classe) +' '+'PROB:'+str(probVal),(50,50), cv2.FONT_HERSHEY_COMPLEX,1,(0,0,255),1)\n",
    "\n",
    "    cv2.imshow('OriginalImage',imgOriginal)\n",
    "    if cv2.waitKey(1) & 0xFF == ord('q'):\n",
    "        break\n",
    "\n",
    "cap.release()\n",
    "cv2.destroyAllWindows()"
   ]
  },
  {
   "cell_type": "code",
   "execution_count": null,
   "metadata": {},
   "outputs": [],
   "source": []
  },
  {
   "cell_type": "code",
   "execution_count": null,
   "metadata": {},
   "outputs": [],
   "source": []
  }
 ],
 "metadata": {
  "kernelspec": {
   "display_name": "Python 3",
   "language": "python",
   "name": "python3"
  },
  "language_info": {
   "codemirror_mode": {
    "name": "ipython",
    "version": 3
   },
   "file_extension": ".py",
   "mimetype": "text/x-python",
   "name": "python",
   "nbconvert_exporter": "python",
   "pygments_lexer": "ipython3",
   "version": "3.8.5"
  }
 },
 "nbformat": 4,
 "nbformat_minor": 4
}
